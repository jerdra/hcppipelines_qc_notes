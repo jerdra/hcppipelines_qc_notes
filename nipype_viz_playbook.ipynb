{
 "cells": [
  {
   "cell_type": "markdown",
   "metadata": {},
   "source": [
    "# Generating SVGs from Niworkflows\n",
    "\n",
    "This notebook is for exploring the nipype/niworkflows visualization libraries to generate the required image for QC'ing HCP pipelines."
   ]
  },
  {
   "cell_type": "markdown",
   "metadata": {},
   "source": [
    "From looking at fmriprep/niworkflows/nipype it looks like the predominant method for generating visualizations is to create sub-classes that base a set of **ReportCapable** classes derived from `niworkflows.interfaces.report_base`. \n",
    "\n",
    "Custom classes can also be created in the style of the classes found in `niworkflows.interfaces.report_base`, they just need to subclass `nipype.interfaces.mixins.reporting.ReportCapableInterface`."
   ]
  },
  {
   "cell_type": "markdown",
   "metadata": {},
   "source": [
    "Since our results are pre-generated, we just need a node object class which supports a clean identity mapping (i.e kinda like `nipype.util.IdentityInterface`) but generates visualizations of our desired type as a side-effect."
   ]
  },
  {
   "cell_type": "code",
   "execution_count": 1,
   "metadata": {},
   "outputs": [],
   "source": [
    "# Import requisite classes\n",
    "import niworkflows.interfaces.report_base as nrc\n",
    "from nipype.interfaces.utility import IdentityInterface\n",
    "from nipype.interfaces.base import traits\n",
    "from nipype.interfaces.mixins import reporting\n",
    "from nipype.interfaces.base import DynamicTraitedSpec\n",
    "from nipype.interfaces.base import File\n",
    "from nipype.interfaces.base import BaseInterfaceInputSpec"
   ]
  },
  {
   "cell_type": "code",
   "execution_count": 2,
   "metadata": {},
   "outputs": [],
   "source": [
    "import pdb"
   ]
  },
  {
   "cell_type": "markdown",
   "metadata": {},
   "source": [
    "### The IRegInputSpecRPT input specification\n",
    "\n",
    "Adding the `niworkflow.interfaces.report_base._SVGReportCapableInputSpec` mixin class extends our basic identity input spec with the following specs:\n",
    "\n",
    "- `out_report` which of type `trait.File(name, usedefault, desc)`\n",
    "- `compress_report` which is of type `trait.Enum([\"auto\",True,False], usedefault, desc)`\n",
    "\n",
    "`traits` are just ways of _incorporating type-like specifications into `nipype`_\n",
    "\n",
    "Not only do we want to implement properties that allow us to spit out reports, we also want to be able to add image inputs. To deal with this we'll add additional `bg_nii` and `fg_nii` properties. Both of these are `File` traits that:\n",
    "\n",
    "1. Must exist `exists=True`\n",
    "2. Have no defaults `defaults=False`\n",
    "3. Absolute paths will be resolved to relative paths `resolve=True`\n",
    "4. Have descriptions specified by `desc`\n",
    "5. Are mandatory inputs `mandatory=True`"
   ]
  },
  {
   "cell_type": "code",
   "execution_count": 3,
   "metadata": {},
   "outputs": [],
   "source": [
    "class _IRegInputSpecRPT(nrc._SVGReportCapableInputSpec,\n",
    "                       BaseInterfaceInputSpec):\n",
    "    \n",
    "    '''\n",
    "    Input specification for IRegRPT, implements:\n",
    "    \n",
    "    bg_nii: Input background NIFTI image\n",
    "    fg_nii: Input foreground NIFTI image\n",
    "    contour: Optional outlining NIFTI Image\n",
    "    \n",
    "    Bases _SVGReportCapableInputSpec which implements:\n",
    "    \n",
    "    out_report: Filename trait\n",
    "    compress_report: [\"auto\", true, false]\n",
    "    \n",
    "    '''\n",
    "    bg_nii = File(exists=True,\n",
    "                  usedefault=False,\n",
    "                  resolve=True,\n",
    "                  desc='Background image of SVG',\n",
    "                  mandatory=True)\n",
    "    \n",
    "    fg_nii = File(exists=True,\n",
    "                  usedefault=False,\n",
    "                  resolve=True,\n",
    "                  desc='Foreground image of SVG',\n",
    "                  mandatory=True)\n",
    "    \n",
    "    contour = File(exists=True,\n",
    "                  udedefault=False,\n",
    "                  resolve=True,\n",
    "                  desc='Contours to include in image',\n",
    "                  mandatory=False)"
   ]
  },
  {
   "cell_type": "markdown",
   "metadata": {},
   "source": [
    "### The IRegOutputSpecRPT output specification\n",
    "\n",
    "Next we want to specify the output specification for our `RPT` class. This is done by just create an interface object that mixes in the `nipype.interfaces.mixins.reporting.ReportCapableOutputSpec` object which adds the following property:\n",
    "\n",
    "- `out_report` of type `File(name, usedefault, hash_files, desc)`, the \"report\" actually just refers to the `.svg` file that will be generated.\n",
    "\n",
    "Since we're not _actually outputting anything here, just relying on a side-effect,_ we don't have to add additional output traits"
   ]
  },
  {
   "cell_type": "code",
   "execution_count": 4,
   "metadata": {},
   "outputs": [],
   "source": [
    "class _IRegOutputSpecRPT(reporting.ReportCapableOutputSpec):\n",
    "    pass"
   ]
  },
  {
   "cell_type": "markdown",
   "metadata": {},
   "source": [
    "Ultimately using both the mixin classes allows us to interface with niworkflows and nipype's visualization toolkit in a consistent, standard manner.\n",
    "\n",
    "***"
   ]
  },
  {
   "cell_type": "markdown",
   "metadata": {},
   "source": [
    "### Creating a nipype concrete class\n",
    "\n",
    "Now that we have an IO specification that implement a standard way of inputs and outputs the next step is to create a class that can interface with Nipype's engine. We define a class `IRegRPT` which:\n",
    "\n",
    "1. Mixes in `niworkflows.interfaces.report_base.RegistrationRC` which provides a `_post_hook` method to auto-generate Registration (SVG flicker animated) images as a side-effect\n",
    "\n",
    "\n",
    "2. Literally does nothing but set variables that the `RegistrationRC` will use during its `_post_run_hook` routine... after-all the images are already aligned and no additional operations are needed. \n",
    "\n",
    "\n",
    "---\n",
    "One thing to note is that we have the flexibility to perform additional transformations within this class, this is what `niworkflows` typically does. \n",
    "\n",
    "In addition you can base off of other established `nipype.interface` classes to extend their functionality to add report capability. This is what is done by classes like `niworkflows.interfaces.register.BBRegisterRPT` \n",
    "\n",
    "***\n",
    "\n",
    "\n",
    "Finally we must implement the `_run_interface(self,runtime) --> runtime` method which is called by the `BaseInterface` class' `run()` method. Since we don't want to perform any actual computation, we make this function do literally nothing."
   ]
  },
  {
   "cell_type": "code",
   "execution_count": 21,
   "metadata": {},
   "outputs": [],
   "source": [
    "class IRegRPT(nrc.RegistrationRC):\n",
    "    '''\n",
    "    Class to generate registration images from pre-existing\n",
    "    NIFTI files. \n",
    "    \n",
    "    Effectively acts as an Identity node with report\n",
    "    generation as a side-effect.\n",
    "    '''\n",
    "\n",
    "    # Use our declared IO specs\n",
    "    input_spec = _IRegInputSpecRPT\n",
    "    output_spec = _IRegOutputSpecRPT\n",
    "    \n",
    "    \n",
    "    \n",
    "    def _post_run_hook(self, runtime):\n",
    "        \n",
    "        '''\n",
    "        Do nothing but propogate properties\n",
    "        to (first) parent class of IRegRPT\n",
    "        that is nrc.RegistrationRC\n",
    "        '''\n",
    "        \n",
    "        # Set variables for `nrc.RegistrationRC`\n",
    "        self._fixed_image = self.inputs.bg_nii\n",
    "        self._moving_image = self.inputs.fg_nii\n",
    "        \n",
    "        # Propogate to RegistrationRC superclass\n",
    "        return super(IRegRPT, self)._post_run_hook(runtime)\n",
    "    \n",
    "\n",
    "\n",
    "    def _run_interface(self, runtime):\n",
    "        return runtime"
   ]
  },
  {
   "cell_type": "code",
   "execution_count": 22,
   "metadata": {},
   "outputs": [],
   "source": [
    "# Set up inputs\n",
    "pre='../data/sub-CMHP001/ses-01/anat/sub-CMHP001_ses-01_desc-preproc_T1w.nii.gz'\n",
    "post='../data/sub-CMHP001/ses-01/anat/sub-CMHP001_ses-01_desc-aseg_dseg.nii.gz'"
   ]
  },
  {
   "cell_type": "code",
   "execution_count": 23,
   "metadata": {},
   "outputs": [],
   "source": [
    "# Set up input spec and generate report as side-effect\n",
    "regrpt = IRegRPT(generate_report=True)\n",
    "regrpt.inputs.bg_nii = pre\n",
    "regrpt.inputs.fg_nii = post\n",
    "regrpt.inputs.out_report = '../tmp/test.svg'"
   ]
  },
  {
   "cell_type": "code",
   "execution_count": null,
   "metadata": {},
   "outputs": [],
   "source": [
    "# Run no actual computation, but generate report as side-effect\n",
    "regrpt.run()\n",
    "\n",
    "# This should work successfully!"
   ]
  }
 ],
 "metadata": {
  "kernelspec": {
   "display_name": "Python 3",
   "language": "python",
   "name": "python3"
  },
  "language_info": {
   "codemirror_mode": {
    "name": "ipython",
    "version": 3
   },
   "file_extension": ".py",
   "mimetype": "text/x-python",
   "name": "python",
   "nbconvert_exporter": "python",
   "pygments_lexer": "ipython3",
   "version": "3.7.0"
  }
 },
 "nbformat": 4,
 "nbformat_minor": 4
}
